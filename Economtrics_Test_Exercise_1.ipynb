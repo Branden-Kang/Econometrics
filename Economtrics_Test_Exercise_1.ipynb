{
  "nbformat": 4,
  "nbformat_minor": 0,
  "metadata": {
    "kernelspec": {
      "display_name": "Python 3",
      "language": "python",
      "name": "python3"
    },
    "language_info": {
      "codemirror_mode": {
        "name": "ipython",
        "version": 3
      },
      "file_extension": ".py",
      "mimetype": "text/x-python",
      "name": "python",
      "nbconvert_exporter": "python",
      "pygments_lexer": "ipython3",
      "version": "3.5.4"
    },
    "colab": {
      "name": "Economtrics_Test Exercise 1.ipynb",
      "provenance": []
    }
  },
  "cells": [
    {
      "cell_type": "markdown",
      "metadata": {
        "id": "HaID3cRgO09K",
        "colab_type": "text"
      },
      "source": [
        "# Test Exercise 1 Questions\n",
        "This exercise considers an example of data that do not satisfy all the standard assumptions of simple regression. \n",
        "In the considered case, one particular observation lies far off from the others, that is, it is an outlier. This violates\n",
        "assumptions A3 and A4, which state that all error terms εi are drawn from one and the same distribution with 2\n",
        "mean zero and fixed variance σ . The dataset contains twenty weekly observations on sales and advertising of a department store. The question of interest lies in estimating the effect of advertising on sales. One of the weeks was special, as the store was also open in the evenings during this week, but this aspect will first be ignored in the analysis. <br>\n",
        "<br>\n",
        "(a) Make the scatter diagram with sales on the vertical axis and advertising on the horizontal axis. What do you expect to find if you would fit a regression line to these data?<br>\n",
        "(b) Estimate the coefficients a and b in the simple regression model with sales as dependent variable and advertising as explanatory factor. Also compute the standard error and t-value of b. Is b significantly different from 0?<br>\n",
        "(c) Compute the residuals and draw a histogram of these residuals. What conclusion do you draw from this histogram?<br>\n",
        "(d) Apparently, the regression result of part (b) is not satisfactory. Once you realize that the large residual corresponds to the week with opening hours during the evening, how would you proceed to get a more satisfactory regression model?<br>\n",
        "(e) Delete this special week from the sample and use the remaining 19 weeks to estimate the coefficients a and b in the simple regression model with sales as dependent variable and advertising as explanatory factor. Also compute the standard error and t-value of b. Is b significantly different from 0?<br>\n",
        "(f) Discuss the differences between your findings in parts (b) and (e). Describe in words what you have learned from these results."
      ]
    },
    {
      "cell_type": "code",
      "metadata": {
        "id": "aemEoMxlRFTC",
        "colab_type": "code",
        "colab": {
          "base_uri": "https://localhost:8080/",
          "height": 224
        },
        "outputId": "e4df14b3-372e-4f07-c948-456b55e946c3"
      },
      "source": [
        "import os\n",
        "from google.colab import drive\n",
        "drive.mount('/content/gdrive',force_remount=True)\n",
        "!pwd\n",
        "os.chdir('gdrive/My Drive/Colab Notebooks/Econometrics')\n",
        "!pwd\n",
        "!ls"
      ],
      "execution_count": 8,
      "outputs": [
        {
          "output_type": "stream",
          "text": [
            "Go to this URL in a browser: https://accounts.google.com/o/oauth2/auth?client_id=947318989803-6bn6qk8qdgf4n4g3pfee6491hc0brc4i.apps.googleusercontent.com&redirect_uri=urn%3aietf%3awg%3aoauth%3a2.0%3aoob&response_type=code&scope=email%20https%3a%2f%2fwww.googleapis.com%2fauth%2fdocs.test%20https%3a%2f%2fwww.googleapis.com%2fauth%2fdrive%20https%3a%2f%2fwww.googleapis.com%2fauth%2fdrive.photos.readonly%20https%3a%2f%2fwww.googleapis.com%2fauth%2fpeopleapi.readonly\n",
            "\n",
            "Enter your authorization code:\n",
            "··········\n",
            "Mounted at /content/gdrive\n",
            "/content\n",
            "/content/gdrive/My Drive/Colab Notebooks/Econometrics\n",
            "'Economtrics_Test Exercise 1.ipynb'\t     'Test Exercise 4.ipynb'\n",
            " principles-of-econometrics-4th-edition.pdf   Test-Exercise-5.ipynb\n",
            " TestExer-1-sales-round1.xls\t\t      Test-Exercise-6.ipynb\n",
            "'Test Exercise 3.ipynb'\t\t\t      Untitled0.ipynb\n"
          ],
          "name": "stdout"
        }
      ]
    },
    {
      "cell_type": "code",
      "metadata": {
        "id": "SHyKGAj6O09Q",
        "colab_type": "code",
        "colab": {}
      },
      "source": [
        "# Importing the relevant libraries\n",
        "import numpy as np\n",
        "import pandas as pd\n",
        "from scipy.stats import kurtosis, skew\n",
        "import matplotlib.pyplot as plt\n",
        "%matplotlib inline\n",
        "import seaborn as sns\n",
        "sns.set_style('whitegrid')"
      ],
      "execution_count": 0,
      "outputs": []
    },
    {
      "cell_type": "code",
      "metadata": {
        "id": "17KN9QGmO09e",
        "colab_type": "code",
        "colab": {
          "base_uri": "https://localhost:8080/",
          "height": 204
        },
        "outputId": "f4bb6600-0fc0-4b39-b6fd-92a5f699a3b9"
      },
      "source": [
        "# Importing the dataset\n",
        "data = pd.read_excel('./TestExer-1-sales-round1.xls')\n",
        "data.head()"
      ],
      "execution_count": 10,
      "outputs": [
        {
          "output_type": "execute_result",
          "data": {
            "text/html": [
              "<div>\n",
              "<style scoped>\n",
              "    .dataframe tbody tr th:only-of-type {\n",
              "        vertical-align: middle;\n",
              "    }\n",
              "\n",
              "    .dataframe tbody tr th {\n",
              "        vertical-align: top;\n",
              "    }\n",
              "\n",
              "    .dataframe thead th {\n",
              "        text-align: right;\n",
              "    }\n",
              "</style>\n",
              "<table border=\"1\" class=\"dataframe\">\n",
              "  <thead>\n",
              "    <tr style=\"text-align: right;\">\n",
              "      <th></th>\n",
              "      <th>Observation</th>\n",
              "      <th>Advertising</th>\n",
              "      <th>Sales</th>\n",
              "    </tr>\n",
              "  </thead>\n",
              "  <tbody>\n",
              "    <tr>\n",
              "      <th>0</th>\n",
              "      <td>1</td>\n",
              "      <td>12</td>\n",
              "      <td>24</td>\n",
              "    </tr>\n",
              "    <tr>\n",
              "      <th>1</th>\n",
              "      <td>2</td>\n",
              "      <td>12</td>\n",
              "      <td>27</td>\n",
              "    </tr>\n",
              "    <tr>\n",
              "      <th>2</th>\n",
              "      <td>3</td>\n",
              "      <td>9</td>\n",
              "      <td>25</td>\n",
              "    </tr>\n",
              "    <tr>\n",
              "      <th>3</th>\n",
              "      <td>4</td>\n",
              "      <td>11</td>\n",
              "      <td>27</td>\n",
              "    </tr>\n",
              "    <tr>\n",
              "      <th>4</th>\n",
              "      <td>5</td>\n",
              "      <td>6</td>\n",
              "      <td>23</td>\n",
              "    </tr>\n",
              "  </tbody>\n",
              "</table>\n",
              "</div>"
            ],
            "text/plain": [
              "   Observation  Advertising  Sales\n",
              "0            1           12     24\n",
              "1            2           12     27\n",
              "2            3            9     25\n",
              "3            4           11     27\n",
              "4            5            6     23"
            ]
          },
          "metadata": {
            "tags": []
          },
          "execution_count": 10
        }
      ]
    },
    {
      "cell_type": "code",
      "metadata": {
        "id": "FkpZl-OKO09n",
        "colab_type": "code",
        "colab": {
          "base_uri": "https://localhost:8080/",
          "height": 297
        },
        "outputId": "618554c4-c3fd-403a-b6e4-8318ab175b21"
      },
      "source": [
        "data.describe()"
      ],
      "execution_count": 12,
      "outputs": [
        {
          "output_type": "execute_result",
          "data": {
            "text/html": [
              "<div>\n",
              "<style scoped>\n",
              "    .dataframe tbody tr th:only-of-type {\n",
              "        vertical-align: middle;\n",
              "    }\n",
              "\n",
              "    .dataframe tbody tr th {\n",
              "        vertical-align: top;\n",
              "    }\n",
              "\n",
              "    .dataframe thead th {\n",
              "        text-align: right;\n",
              "    }\n",
              "</style>\n",
              "<table border=\"1\" class=\"dataframe\">\n",
              "  <thead>\n",
              "    <tr style=\"text-align: right;\">\n",
              "      <th></th>\n",
              "      <th>Observation</th>\n",
              "      <th>Advertising</th>\n",
              "      <th>Sales</th>\n",
              "    </tr>\n",
              "  </thead>\n",
              "  <tbody>\n",
              "    <tr>\n",
              "      <th>count</th>\n",
              "      <td>20.00000</td>\n",
              "      <td>20.000000</td>\n",
              "      <td>20.000000</td>\n",
              "    </tr>\n",
              "    <tr>\n",
              "      <th>mean</th>\n",
              "      <td>10.50000</td>\n",
              "      <td>10.250000</td>\n",
              "      <td>26.300000</td>\n",
              "    </tr>\n",
              "    <tr>\n",
              "      <th>std</th>\n",
              "      <td>5.91608</td>\n",
              "      <td>2.917732</td>\n",
              "      <td>5.759203</td>\n",
              "    </tr>\n",
              "    <tr>\n",
              "      <th>min</th>\n",
              "      <td>1.00000</td>\n",
              "      <td>6.000000</td>\n",
              "      <td>23.000000</td>\n",
              "    </tr>\n",
              "    <tr>\n",
              "      <th>25%</th>\n",
              "      <td>5.75000</td>\n",
              "      <td>8.000000</td>\n",
              "      <td>24.000000</td>\n",
              "    </tr>\n",
              "    <tr>\n",
              "      <th>50%</th>\n",
              "      <td>10.50000</td>\n",
              "      <td>11.000000</td>\n",
              "      <td>25.000000</td>\n",
              "    </tr>\n",
              "    <tr>\n",
              "      <th>75%</th>\n",
              "      <td>15.25000</td>\n",
              "      <td>12.000000</td>\n",
              "      <td>26.250000</td>\n",
              "    </tr>\n",
              "    <tr>\n",
              "      <th>max</th>\n",
              "      <td>20.00000</td>\n",
              "      <td>16.000000</td>\n",
              "      <td>50.000000</td>\n",
              "    </tr>\n",
              "  </tbody>\n",
              "</table>\n",
              "</div>"
            ],
            "text/plain": [
              "       Observation  Advertising      Sales\n",
              "count     20.00000    20.000000  20.000000\n",
              "mean      10.50000    10.250000  26.300000\n",
              "std        5.91608     2.917732   5.759203\n",
              "min        1.00000     6.000000  23.000000\n",
              "25%        5.75000     8.000000  24.000000\n",
              "50%       10.50000    11.000000  25.000000\n",
              "75%       15.25000    12.000000  26.250000\n",
              "max       20.00000    16.000000  50.000000"
            ]
          },
          "metadata": {
            "tags": []
          },
          "execution_count": 12
        }
      ]
    },
    {
      "cell_type": "markdown",
      "metadata": {
        "id": "38CVS42VO09v",
        "colab_type": "text"
      },
      "source": [
        "## Question (a)\n",
        "\n",
        "The scatter plot of the data is generated using the code snippet below.  \n",
        "The regression line would not be accurate due to the outlier present at the data point (6,50). The outlier would create a single high residual value which would violate assumption A3. The regression line thus generated would not fit well to the data and have lower Variance Explained ($R^2$), lower t-value for $b$, and a large 95% confidence interval for $b$."
      ]
    },
    {
      "cell_type": "code",
      "metadata": {
        "id": "EveV8LZjO09w",
        "colab_type": "code",
        "colab": {
          "base_uri": "https://localhost:8080/",
          "height": 513
        },
        "outputId": "6491a899-bef3-4293-95c6-d1d6c5dffda1"
      },
      "source": [
        "plt.figure(figsize=(10,8))\n",
        "plt.title('Scatter plot')\n",
        "plt.scatter(data['Advertising'], data['Sales'], c='g')\n",
        "plt.xlabel('Advertising')\n",
        "plt.ylabel('Sales')\n",
        "#plt.ylim([20,55])\n",
        "plt.show()"
      ],
      "execution_count": 17,
      "outputs": [
        {
          "output_type": "display_data",
          "data": {
            "image/png": "[encoded data removed]",
            "text/plain": [
              "<Figure size 720x576 with 1 Axes>"
            ]
          },
          "metadata": {
            "tags": []
          }
        }
      ]
    },
    {
      "cell_type": "markdown",
      "metadata": {
        "id": "8EzN1nTzO094",
        "colab_type": "text"
      },
      "source": [
        "## Question (b)"
      ]
    },
    {
      "cell_type": "code",
      "metadata": {
        "id": "0yY5ZGnjO095",
        "colab_type": "code",
        "colab": {}
      },
      "source": [
        "x = data['Advertising']\n",
        "y = data['Sales']\n",
        "x_mean = x.mean()\n",
        "y_mean = y.mean()"
      ],
      "execution_count": 0,
      "outputs": []
    },
    {
      "cell_type": "code",
      "metadata": {
        "id": "0pLSLWztO099",
        "colab_type": "code",
        "colab": {}
      },
      "source": [
        "b = (np.dot(np.transpose(x - x_mean),(y - y_mean)))/sum((x - x_mean)**2)"
      ],
      "execution_count": 0,
      "outputs": []
    },
    {
      "cell_type": "code",
      "metadata": {
        "id": "HO3OWVx5O0-A",
        "colab_type": "code",
        "colab": {}
      },
      "source": [
        "a = y_mean - b*x_mean"
      ],
      "execution_count": 0,
      "outputs": []
    },
    {
      "cell_type": "code",
      "metadata": {
        "id": "OBeigr2fO0-D",
        "colab_type": "code",
        "colab": {
          "base_uri": "https://localhost:8080/",
          "height": 34
        },
        "outputId": "6a70397e-e730-47ea-a0a7-26ae70a2e5f5"
      },
      "source": [
        "print(\"a = {}, b = {}\".format(a,b))"
      ],
      "execution_count": 21,
      "outputs": [
        {
          "output_type": "stream",
          "text": [
            "a = 29.626893353941266, b = -0.3245749613601236\n"
          ],
          "name": "stdout"
        }
      ]
    },
    {
      "cell_type": "code",
      "metadata": {
        "id": "tvYBaw3ZO0-H",
        "colab_type": "code",
        "colab": {
          "base_uri": "https://localhost:8080/",
          "height": 513
        },
        "outputId": "7feb1175-b3bd-4d2c-fdb7-0d0a10e4b654"
      },
      "source": [
        "plt.figure(figsize=(10,8))\n",
        "plt.title('Scatter plot with regression line')\n",
        "plt.scatter(x, y, c='b', alpha=0.6)\n",
        "plt.plot(x, a+b*x, '-r')\n",
        "plt.xlabel('Advertising')\n",
        "plt.ylabel('Sales')\n",
        "#plt.ylim([20,55])\n",
        "plt.show()"
      ],
      "execution_count": 22,
      "outputs": [
        {
          "output_type": "display_data",
          "data": {
            "image/png": "[encoded data removed]",
            "text/plain": [
              "<Figure size 720x576 with 1 Axes>"
            ]
          },
          "metadata": {
            "tags": []
          }
        }
      ]
    },
    {
      "cell_type": "code",
      "metadata": {
        "id": "47X4XAVuO0-K",
        "colab_type": "code",
        "colab": {}
      },
      "source": [
        "e = (y - y_mean) - b*(x - x_mean)\n",
        "R2 = 1 - sum(e**2)/sum((y - y_mean)**2)"
      ],
      "execution_count": 0,
      "outputs": []
    },
    {
      "cell_type": "code",
      "metadata": {
        "id": "2PdtZdadO0-M",
        "colab_type": "code",
        "colab": {
          "base_uri": "https://localhost:8080/",
          "height": 34
        },
        "outputId": "ab140f11-931e-443e-d835-f9a1f8ed06b6"
      },
      "source": [
        "print(\"R squared = {}\".format(R2))"
      ],
      "execution_count": 24,
      "outputs": [
        {
          "output_type": "stream",
          "text": [
            "R squared = 0.027039329532539513\n"
          ],
          "name": "stdout"
        }
      ]
    },
    {
      "cell_type": "code",
      "metadata": {
        "id": "v1H5GaJdO0-Q",
        "colab_type": "code",
        "colab": {
          "base_uri": "https://localhost:8080/",
          "height": 34
        },
        "outputId": "9a09d965-b401-4e40-9a37-a7355a74bc80"
      },
      "source": [
        "s2 = sum(e**2)/(len(x)-2)\n",
        "print(\"s^2 = {}\".format(s2))"
      ],
      "execution_count": 25,
      "outputs": [
        {
          "output_type": "stream",
          "text": [
            "s^2 = 34.06443414047742\n"
          ],
          "name": "stdout"
        }
      ]
    },
    {
      "cell_type": "code",
      "metadata": {
        "id": "72e7mFUjO0-T",
        "colab_type": "code",
        "colab": {
          "base_uri": "https://localhost:8080/",
          "height": 34
        },
        "outputId": "5d48d677-43be-42be-d9d0-a2cd998443be"
      },
      "source": [
        "s_b = (s2/sum((x - x_mean)**2))**0.5\n",
        "print(\"s_b = {}\".format(s_b))"
      ],
      "execution_count": 26,
      "outputs": [
        {
          "output_type": "stream",
          "text": [
            "s_b = 0.45891097580291074\n"
          ],
          "name": "stdout"
        }
      ]
    },
    {
      "cell_type": "code",
      "metadata": {
        "id": "Tu1HLmH5O0-W",
        "colab_type": "code",
        "colab": {
          "base_uri": "https://localhost:8080/",
          "height": 34
        },
        "outputId": "0b34716a-afad-4d48-f5c2-889ef0cdea7b"
      },
      "source": [
        "# t-value of b\n",
        "t_b = b/s_b\n",
        "print(\"t_b = {}\".format(t_b))"
      ],
      "execution_count": 27,
      "outputs": [
        {
          "output_type": "stream",
          "text": [
            "t_b = -0.7072721692747644\n"
          ],
          "name": "stdout"
        }
      ]
    },
    {
      "cell_type": "code",
      "metadata": {
        "id": "AoI8ZUQRO0-Z",
        "colab_type": "code",
        "colab": {
          "base_uri": "https://localhost:8080/",
          "height": 34
        },
        "outputId": "655e9d27-785e-4c0f-9cb6-9e7a85d9a5f1"
      },
      "source": [
        "print(\"Approx 95% confidence interval for b is [{},{}]\".format(b - 2*s_b, b + 2*s_b))"
      ],
      "execution_count": 28,
      "outputs": [
        {
          "output_type": "stream",
          "text": [
            "Approx 95% confidence interval for b is [-1.2423969129659451,0.5932469902456978]\n"
          ],
          "name": "stdout"
        }
      ]
    },
    {
      "cell_type": "markdown",
      "metadata": {
        "id": "Fn2Jc9GwO0-c",
        "colab_type": "text"
      },
      "source": [
        "From the above calculations,  \n",
        "$a = 29.627$  \n",
        "$b = -0.325$  \n",
        "$R^2 = 0.027$  \n",
        "t-value for $b = -0.707$  \n",
        "standard error for $b = 0.459$  \n",
        "$b$ is close to $0$. It is evident from its standard error, and the low t-value of $b$ and hence we cannot not reject the null hypothesis ($H0$) that $\\beta = 0$."
      ]
    },
    {
      "cell_type": "markdown",
      "metadata": {
        "id": "27DtWuaOO0-d",
        "colab_type": "text"
      },
      "source": [
        "## Part (c)"
      ]
    },
    {
      "cell_type": "code",
      "metadata": {
        "id": "HE5IkSeWO0-f",
        "colab_type": "code",
        "colab": {
          "base_uri": "https://localhost:8080/",
          "height": 564
        },
        "outputId": "f201e42b-ad06-4909-c479-0559bd832dbd"
      },
      "source": [
        "plt.figure(figsize=(10,8))\n",
        "plt.title('Histogram of Residuals')\n",
        "plt.hist(e,normed=True,bins=20)\n",
        "plt.xlabel('Residuals')\n",
        "plt.ylabel('Probability')\n",
        "plt.show()"
      ],
      "execution_count": 29,
      "outputs": [
        {
          "output_type": "stream",
          "text": [
            "/usr/local/lib/python3.6/dist-packages/ipykernel_launcher.py:3: MatplotlibDeprecationWarning: \n",
            "The 'normed' kwarg was deprecated in Matplotlib 2.1 and will be removed in 3.1. Use 'density' instead.\n",
            "  This is separate from the ipykernel package so we can avoid doing imports until\n"
          ],
          "name": "stderr"
        },
        {
          "output_type": "display_data",
          "data": {
            "image/png": "[encoded data removed]",
            "text/plain": [
              "<Figure size 720x576 with 1 Axes>"
            ]
          },
          "metadata": {
            "tags": []
          }
        }
      ]
    },
    {
      "cell_type": "code",
      "metadata": {
        "id": "QQJjDZQTO0-i",
        "colab_type": "code",
        "colab": {
          "base_uri": "https://localhost:8080/",
          "height": 85
        },
        "outputId": "ee6bcf03-b881-4612-8879-6c45191eb202"
      },
      "source": [
        "print(\"Mean: {}\\nStd dev: {}\\nSkewness: {}\\nKurtosis: {}\".format(e.mean(), e.std(), skew(e), kurtosis(e)))"
      ],
      "execution_count": 30,
      "outputs": [
        {
          "output_type": "stream",
          "text": [
            "Mean: -6.439293542825908e-16\n",
            "Std dev: 5.680807089288938\n",
            "Skewness: 3.178012049426174\n",
            "Kurtosis: 10.282601127554958\n"
          ],
          "name": "stdout"
        }
      ]
    },
    {
      "cell_type": "markdown",
      "metadata": {
        "id": "FZPs-QasO0-l",
        "colab_type": "text"
      },
      "source": [
        "Observing the high value for skewness (>0), and high value for kurtosis (>3) it can be concluded that the histogram of the residuals does't follow a normal distribution. "
      ]
    },
    {
      "cell_type": "markdown",
      "metadata": {
        "id": "5SkN7HziO0-l",
        "colab_type": "text"
      },
      "source": [
        "## Part (d)\n",
        "\n",
        "To get a more satisfactory model, we need to remove the outlier from the dataset. So, I removed the outlier present at (6,50). It is safe to do so because it is mentioned in the problem statement that for that particular observation the store was also open during the evenings of the week while for all other observations the store was not open during the evenings."
      ]
    },
    {
      "cell_type": "markdown",
      "metadata": {
        "id": "PvvnEzZSO0-m",
        "colab_type": "text"
      },
      "source": [
        "## Part (e)"
      ]
    },
    {
      "cell_type": "code",
      "metadata": {
        "id": "vNXKG3WeO0-n",
        "colab_type": "code",
        "colab": {}
      },
      "source": [
        "#Removing the outlier from the dataset.\n",
        "cleaned_data = data[data['Sales'] != 50]"
      ],
      "execution_count": 0,
      "outputs": []
    },
    {
      "cell_type": "code",
      "metadata": {
        "id": "xEjXXgNXO0-p",
        "colab_type": "code",
        "colab": {}
      },
      "source": [
        "# Recalculating the paramters and statistics\n",
        "x = cleaned_data['Advertising']\n",
        "y = cleaned_data['Sales']\n",
        "mean_x = x.mean()\n",
        "mean_y = y.mean()"
      ],
      "execution_count": 0,
      "outputs": []
    },
    {
      "cell_type": "code",
      "metadata": {
        "id": "sjgfBUxTO0-r",
        "colab_type": "code",
        "colab": {}
      },
      "source": [
        "b = (np.dot(np.transpose(x - mean_x),(y - mean_y)))/sum((x - mean_x)**2)"
      ],
      "execution_count": 0,
      "outputs": []
    },
    {
      "cell_type": "code",
      "metadata": {
        "id": "GjFHjbXSO0-s",
        "colab_type": "code",
        "colab": {}
      },
      "source": [
        "a = mean_y - b*mean_x"
      ],
      "execution_count": 0,
      "outputs": []
    },
    {
      "cell_type": "code",
      "metadata": {
        "id": "ubtQAGm2O0-v",
        "colab_type": "code",
        "colab": {
          "base_uri": "https://localhost:8080/",
          "height": 51
        },
        "outputId": "0c1fbf76-2d8e-4d82-b053-184df03fbb63"
      },
      "source": [
        "print(\"a = {}\\nb = {}\".format(a,b))"
      ],
      "execution_count": 35,
      "outputs": [
        {
          "output_type": "stream",
          "text": [
            "a = 21.125\n",
            "b = 0.375\n"
          ],
          "name": "stdout"
        }
      ]
    },
    {
      "cell_type": "code",
      "metadata": {
        "id": "3XATgK_AO0-y",
        "colab_type": "code",
        "colab": {
          "base_uri": "https://localhost:8080/",
          "height": 513
        },
        "outputId": "4f8d89ad-08d4-4d21-c292-d8311bc3333f"
      },
      "source": [
        "plt.figure(figsize=(8,8))\n",
        "plt.title('Scatter plot with regression line')\n",
        "plt.scatter(x, y, c='b', alpha=0.6)\n",
        "plt.plot(x, a+b*x, '-r')\n",
        "plt.xlabel('Advertising')\n",
        "plt.ylabel('Sales')\n",
        "plt.ylim([20,55])\n",
        "plt.show()"
      ],
      "execution_count": 36,
      "outputs": [
        {
          "output_type": "display_data",
          "data": {
            "image/png": "[encoded data removed]",
            "text/plain": [
              "<Figure size 576x576 with 1 Axes>"
            ]
          },
          "metadata": {
            "tags": []
          }
        }
      ]
    },
    {
      "cell_type": "code",
      "metadata": {
        "id": "OWf5I98zO0-0",
        "colab_type": "code",
        "colab": {}
      },
      "source": [
        "e = (y - mean_y) - b*(x - mean_x)\n",
        "R2 = 1 - sum(e**2)/sum((y - mean_y)**2)"
      ],
      "execution_count": 0,
      "outputs": []
    },
    {
      "cell_type": "code",
      "metadata": {
        "id": "ebPXL30BO0-2",
        "colab_type": "code",
        "colab": {
          "base_uri": "https://localhost:8080/",
          "height": 34
        },
        "outputId": "592f3b8c-00b3-4e65-a4cd-28da5fcb64d0"
      },
      "source": [
        "print(\"R squared = {}\".format(R2))"
      ],
      "execution_count": 38,
      "outputs": [
        {
          "output_type": "stream",
          "text": [
            "R squared = 0.5153716216216215\n"
          ],
          "name": "stdout"
        }
      ]
    },
    {
      "cell_type": "code",
      "metadata": {
        "id": "lEL8H0JKO0-4",
        "colab_type": "code",
        "colab": {
          "base_uri": "https://localhost:8080/",
          "height": 34
        },
        "outputId": "4bd5b24a-3911-48b6-b01a-0a14e7f3f75a"
      },
      "source": [
        "s2 = sum(e**2)/(len(x)-2)\n",
        "print(\"s^2 = {}\".format(s2))"
      ],
      "execution_count": 39,
      "outputs": [
        {
          "output_type": "stream",
          "text": [
            "s^2 = 1.1102941176470589\n"
          ],
          "name": "stdout"
        }
      ]
    },
    {
      "cell_type": "code",
      "metadata": {
        "id": "L-I_vhmLO0-7",
        "colab_type": "code",
        "colab": {
          "base_uri": "https://localhost:8080/",
          "height": 34
        },
        "outputId": "f4b74f1d-a5bb-4d90-803a-aa9897b25bd5"
      },
      "source": [
        "s_b = (s2/sum((x - mean_x)**2))**0.5\n",
        "print(\"s_b = {}\".format(s_b))"
      ],
      "execution_count": 40,
      "outputs": [
        {
          "output_type": "stream",
          "text": [
            "s_b = 0.0881964241412493\n"
          ],
          "name": "stdout"
        }
      ]
    },
    {
      "cell_type": "code",
      "metadata": {
        "id": "fefHL_uVO0--",
        "colab_type": "code",
        "colab": {
          "base_uri": "https://localhost:8080/",
          "height": 34
        },
        "outputId": "b47ef523-8b9e-4845-ed72-131f39987781"
      },
      "source": [
        "# t-value of b\n",
        "t_b = b/s_b\n",
        "print(\"t_b = {}\".format(t_b))"
      ],
      "execution_count": 41,
      "outputs": [
        {
          "output_type": "stream",
          "text": [
            "t_b = 4.251873062329896\n"
          ],
          "name": "stdout"
        }
      ]
    },
    {
      "cell_type": "code",
      "metadata": {
        "id": "kwRnVOtRO0_B",
        "colab_type": "code",
        "colab": {
          "base_uri": "https://localhost:8080/",
          "height": 34
        },
        "outputId": "54824924-2cab-43d2-c45f-25bbf832d43c"
      },
      "source": [
        "print(\"Approx 95% confidence interval for b is [{},{}]\".format(b - 2*s_b, b + 2*s_b))"
      ],
      "execution_count": 42,
      "outputs": [
        {
          "output_type": "stream",
          "text": [
            "Approx 95% confidence interval for b is [0.1986071517175014,0.5513928482824986]\n"
          ],
          "name": "stdout"
        }
      ]
    },
    {
      "cell_type": "markdown",
      "metadata": {
        "id": "nAi5x3sfO0_D",
        "colab_type": "text"
      },
      "source": [
        "From the above calculations,  \n",
        "$a = 21.125$  \n",
        "$b = 0.375$  \n",
        "$R^2 = 0.515$  \n",
        "t-value for $b = 4.252$  \n",
        "standard error for $b = 0.088$  \n",
        "$b$ is significantly different from $0$ as it has a low standard error and high t-value (>2). So we can reject the null hypothesis ($H0$) that $\\beta = 0$."
      ]
    },
    {
      "cell_type": "code",
      "metadata": {
        "id": "nn1EkQpgO0_D",
        "colab_type": "code",
        "colab": {
          "base_uri": "https://localhost:8080/",
          "height": 564
        },
        "outputId": "bacbaf0b-1663-4ac7-ba90-d4dcfbda791c"
      },
      "source": [
        "plt.figure(figsize=(10,8))\n",
        "plt.title('Histogram of residuals')\n",
        "plt.hist(e,normed=True,bins=20)\n",
        "plt.xlabel('Residuals')\n",
        "plt.ylabel('Probability')\n",
        "plt.show()"
      ],
      "execution_count": 43,
      "outputs": [
        {
          "output_type": "stream",
          "text": [
            "/usr/local/lib/python3.6/dist-packages/ipykernel_launcher.py:3: MatplotlibDeprecationWarning: \n",
            "The 'normed' kwarg was deprecated in Matplotlib 2.1 and will be removed in 3.1. Use 'density' instead.\n",
            "  This is separate from the ipykernel package so we can avoid doing imports until\n"
          ],
          "name": "stderr"
        },
        {
          "output_type": "display_data",
          "data": {
            "image/png": "[encoded data removed]",
            "text/plain": [
              "<Figure size 720x576 with 1 Axes>"
            ]
          },
          "metadata": {
            "tags": []
          }
        }
      ]
    },
    {
      "cell_type": "code",
      "metadata": {
        "id": "HD5JHMc4O0_F",
        "colab_type": "code",
        "colab": {
          "base_uri": "https://localhost:8080/",
          "height": 85
        },
        "outputId": "18128a3c-d451-4d2d-b868-46ae0501d34f"
      },
      "source": [
        "print(\"Mean: {}\\nStandard dev: {}\\nSkewness: {}\\nKurtosis: {}\".format(e.mean(), e.std(), skew(e), kurtosis(e)))"
      ],
      "execution_count": 44,
      "outputs": [
        {
          "output_type": "stream",
          "text": [
            "Mean: -1.7763568394002505e-15\n",
            "Standard dev: 1.024017143953709\n",
            "Skewness: -0.2516569996892638\n",
            "Kurtosis: -0.06689947809306629\n"
          ],
          "name": "stdout"
        }
      ]
    },
    {
      "cell_type": "markdown",
      "metadata": {
        "id": "ryKPkDl4O0_J",
        "colab_type": "text"
      },
      "source": [
        "The low values for mean (close to 0), skewness (close to 0), and kurtosis (between -3 and 3) suggest that the residuals follow a reasonable normal distribution."
      ]
    },
    {
      "cell_type": "markdown",
      "metadata": {
        "id": "f1znbKSvO0_J",
        "colab_type": "text"
      },
      "source": [
        "## Part (f)\n",
        "\n",
        "From the results obtained in Part (b) and Part (e) it can be concluded that to ensure that $b$ is accurate with $\\beta$ it is important for the data distribution and the error terms ($\\epsilon_i$) to follow the 7 statistical assumptions listed in Lecture 1.4. These assumptions help us to precisely define the statistical properties of the slope estimator $b$.  \n",
        "\n",
        "In Part (a) an outlier violated assumptions A3 and A4 which led to a poor fit of the linear regression. Removing the outlier resulted in a much better fit of the linear regression to the data in Part (e). This helped me learn that it is important to handle outliers before performing linear regression on the data. The presence of outliers can significantly affect the estimation of parameters $a$ and $b$ and their accuracy with $\\alpha$ and $\\beta$.  \n",
        "\n",
        "I also learned that the general steps to conclude that a dataset can be fit using a linear regression model. First, we need to generate the scatter plot of the data to visualize it. Then we could determine the values for $a$, $b$, and apply tests such as $R^2$, t-test for $b$, and standard dev for $b$ to determine the quality of the fit. Furthermore, we should also check the statistics of the residuals to check the validity of the assumptions behind the linear regression model. If all the conditions are fulfilled, then we can conclude that the dataset can be fit using a linear regression model."
      ]
    }
  ]
}